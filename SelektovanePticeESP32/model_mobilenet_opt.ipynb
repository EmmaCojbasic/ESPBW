{
 "cells": [
  {
   "cell_type": "code",
   "execution_count": 1,
   "metadata": {},
   "outputs": [
    {
     "name": "stdout",
     "output_type": "stream",
     "text": [
      "WARNING:tensorflow:From c:\\Users\\Emma\\AppData\\Local\\Programs\\Python\\Python310\\lib\\site-packages\\keras\\src\\losses.py:2976: The name tf.losses.sparse_softmax_cross_entropy is deprecated. Please use tf.compat.v1.losses.sparse_softmax_cross_entropy instead.\n",
      "\n"
     ]
    }
   ],
   "source": [
    "import tensorflow as tf\n",
    "from tensorflow.keras import layers, models, callbacks\n",
    "from tensorflow.keras.preprocessing.image import ImageDataGenerator"
   ]
  },
  {
   "cell_type": "code",
   "execution_count": 2,
   "metadata": {},
   "outputs": [
    {
     "name": "stdout",
     "output_type": "stream",
     "text": [
      "WARNING:tensorflow:From c:\\Users\\Emma\\AppData\\Local\\Programs\\Python\\Python310\\lib\\site-packages\\keras\\src\\backend.py:1398: The name tf.executing_eagerly_outside_functions is deprecated. Please use tf.compat.v1.executing_eagerly_outside_functions instead.\n",
      "\n",
      "WARNING:tensorflow:From c:\\Users\\Emma\\AppData\\Local\\Programs\\Python\\Python310\\lib\\site-packages\\keras\\src\\layers\\normalization\\batch_normalization.py:979: The name tf.nn.fused_batch_norm is deprecated. Please use tf.compat.v1.nn.fused_batch_norm instead.\n",
      "\n",
      "Downloading data from https://storage.googleapis.com/tensorflow/keras-applications/mobilenet/mobilenet_1_0_128_tf_no_top.h5\n",
      "17225924/17225924 [==============================] - 1s 0us/step\n"
     ]
    }
   ],
   "source": [
    "base_model = tf.keras.applications.MobileNet(input_shape=(128, 128, 3), \n",
    "                                               include_top=False, weights='imagenet')\n",
    "\n",
    "base_model.trainable = False"
   ]
  },
  {
   "cell_type": "code",
   "execution_count": 3,
   "metadata": {},
   "outputs": [],
   "source": [
    "from tensorflow.keras.regularizers import l2\n",
    "\n",
    "model = models.Sequential([\n",
    "    base_model,\n",
    "    layers.GlobalAveragePooling2D(),\n",
    "    layers.Dense(256, activation='relu', kernel_regularizer=l2(0.001)),  # Regularizacija\n",
    "    layers.Dropout(0.6),  # Smanjuje overfitting\n",
    "    layers.Dense(20, activation='softmax')  # 20 je broj klasa\n",
    "])"
   ]
  },
  {
   "cell_type": "code",
   "execution_count": 4,
   "metadata": {},
   "outputs": [],
   "source": [
    "model.compile(optimizer=tf.keras.optimizers.Adam(learning_rate=0.0001),\n",
    "              loss= 'categorical_crossentropy', # 'sparse_categorical_crossentropy',\n",
    "              metrics=['accuracy'])\n",
    "\n",
    "early_stopping = callbacks.EarlyStopping(monitor='val_loss', patience=5, restore_best_weights=True)\n",
    "reduce_lr = callbacks.ReduceLROnPlateau(monitor='val_loss', factor=0.5, patience=3, min_lr=1e-6)"
   ]
  },
  {
   "cell_type": "code",
   "execution_count": 5,
   "metadata": {},
   "outputs": [],
   "source": [
    "train_datagen = ImageDataGenerator(rescale=1./255)"
   ]
  },
  {
   "cell_type": "code",
   "execution_count": 6,
   "metadata": {},
   "outputs": [
    {
     "name": "stdout",
     "output_type": "stream",
     "text": [
      "Found 949 images belonging to 20 classes.\n"
     ]
    }
   ],
   "source": [
    "train_generator = train_datagen.flow_from_directory(\n",
    "    'Train',  # Putanja do foldera sa podacima za treniranje\n",
    "    target_size=(128, 128),     # Resize na 96x96\n",
    "    batch_size=16,\n",
    "    class_mode= 'categorical' ) # 'sparse')"
   ]
  },
  {
   "cell_type": "code",
   "execution_count": 7,
   "metadata": {},
   "outputs": [
    {
     "name": "stdout",
     "output_type": "stream",
     "text": [
      "Found 119 images belonging to 20 classes.\n"
     ]
    }
   ],
   "source": [
    "val_datagen = ImageDataGenerator(rescale=1./255)\n",
    "\n",
    "val_generator = val_datagen.flow_from_directory(\n",
    "    'Validate',  # Putanja do foldera sa podacima za treniranje\n",
    "    target_size=(128, 128),     # Resize na 96x96\n",
    "    batch_size=16,\n",
    "    class_mode= 'categorical') #'sparse')"
   ]
  },
  {
   "cell_type": "code",
   "execution_count": 8,
   "metadata": {},
   "outputs": [
    {
     "name": "stdout",
     "output_type": "stream",
     "text": [
      "Epoch 1/50\n",
      "WARNING:tensorflow:From c:\\Users\\Emma\\AppData\\Local\\Programs\\Python\\Python310\\lib\\site-packages\\keras\\src\\utils\\tf_utils.py:492: The name tf.ragged.RaggedTensorValue is deprecated. Please use tf.compat.v1.ragged.RaggedTensorValue instead.\n",
      "\n",
      "WARNING:tensorflow:From c:\\Users\\Emma\\AppData\\Local\\Programs\\Python\\Python310\\lib\\site-packages\\keras\\src\\engine\\base_layer_utils.py:384: The name tf.executing_eagerly_outside_functions is deprecated. Please use tf.compat.v1.executing_eagerly_outside_functions instead.\n",
      "\n",
      "60/60 [==============================] - 12s 166ms/step - loss: 4.6187 - accuracy: 0.0664 - val_loss: 3.3699 - val_accuracy: 0.0672 - lr: 1.0000e-04\n",
      "Epoch 2/50\n",
      "60/60 [==============================] - 8s 139ms/step - loss: 3.6193 - accuracy: 0.1138 - val_loss: 3.0733 - val_accuracy: 0.1681 - lr: 1.0000e-04\n",
      "Epoch 3/50\n",
      "60/60 [==============================] - 9s 149ms/step - loss: 3.1302 - accuracy: 0.1760 - val_loss: 2.8556 - val_accuracy: 0.2941 - lr: 1.0000e-04\n",
      "Epoch 4/50\n",
      "60/60 [==============================] - 9s 150ms/step - loss: 2.9128 - accuracy: 0.2234 - val_loss: 2.6824 - val_accuracy: 0.3361 - lr: 1.0000e-04\n",
      "Epoch 5/50\n",
      "60/60 [==============================] - 10s 164ms/step - loss: 2.6701 - accuracy: 0.2940 - val_loss: 2.5007 - val_accuracy: 0.4286 - lr: 1.0000e-04\n",
      "Epoch 6/50\n",
      "60/60 [==============================] - 10s 155ms/step - loss: 2.4636 - accuracy: 0.3751 - val_loss: 2.3375 - val_accuracy: 0.4622 - lr: 1.0000e-04\n",
      "Epoch 7/50\n",
      "60/60 [==============================] - 10s 157ms/step - loss: 2.3644 - accuracy: 0.3952 - val_loss: 2.2134 - val_accuracy: 0.5126 - lr: 1.0000e-04\n",
      "Epoch 8/50\n",
      "60/60 [==============================] - 9s 151ms/step - loss: 2.1580 - accuracy: 0.4510 - val_loss: 2.0766 - val_accuracy: 0.5546 - lr: 1.0000e-04\n",
      "Epoch 9/50\n",
      "60/60 [==============================] - 9s 151ms/step - loss: 2.0440 - accuracy: 0.4984 - val_loss: 1.9705 - val_accuracy: 0.5714 - lr: 1.0000e-04\n",
      "Epoch 10/50\n",
      "60/60 [==============================] - 10s 157ms/step - loss: 1.8788 - accuracy: 0.5321 - val_loss: 1.8711 - val_accuracy: 0.6050 - lr: 1.0000e-04\n",
      "Epoch 11/50\n",
      "60/60 [==============================] - 10s 158ms/step - loss: 1.8026 - accuracy: 0.5722 - val_loss: 1.7803 - val_accuracy: 0.6303 - lr: 1.0000e-04\n",
      "Epoch 12/50\n",
      "60/60 [==============================] - 10s 159ms/step - loss: 1.6888 - accuracy: 0.5985 - val_loss: 1.7184 - val_accuracy: 0.6555 - lr: 1.0000e-04\n",
      "Epoch 13/50\n",
      "60/60 [==============================] - 9s 154ms/step - loss: 1.6115 - accuracy: 0.6228 - val_loss: 1.6520 - val_accuracy: 0.6471 - lr: 1.0000e-04\n",
      "Epoch 14/50\n",
      "60/60 [==============================] - 10s 160ms/step - loss: 1.5241 - accuracy: 0.6565 - val_loss: 1.5756 - val_accuracy: 0.6891 - lr: 1.0000e-04\n",
      "Epoch 15/50\n",
      "60/60 [==============================] - 9s 148ms/step - loss: 1.4258 - accuracy: 0.6944 - val_loss: 1.5301 - val_accuracy: 0.6723 - lr: 1.0000e-04\n",
      "Epoch 16/50\n",
      "60/60 [==============================] - 10s 158ms/step - loss: 1.3712 - accuracy: 0.7018 - val_loss: 1.4785 - val_accuracy: 0.7059 - lr: 1.0000e-04\n",
      "Epoch 17/50\n",
      "60/60 [==============================] - 10s 157ms/step - loss: 1.2766 - accuracy: 0.7218 - val_loss: 1.4545 - val_accuracy: 0.7059 - lr: 1.0000e-04\n",
      "Epoch 18/50\n",
      "60/60 [==============================] - 10s 162ms/step - loss: 1.2621 - accuracy: 0.7429 - val_loss: 1.4067 - val_accuracy: 0.7059 - lr: 1.0000e-04\n",
      "Epoch 19/50\n",
      "60/60 [==============================] - 10s 167ms/step - loss: 1.1947 - accuracy: 0.7619 - val_loss: 1.3761 - val_accuracy: 0.7311 - lr: 1.0000e-04\n",
      "Epoch 20/50\n",
      "60/60 [==============================] - 9s 148ms/step - loss: 1.1373 - accuracy: 0.7914 - val_loss: 1.3534 - val_accuracy: 0.7311 - lr: 1.0000e-04\n",
      "Epoch 21/50\n",
      "60/60 [==============================] - 9s 150ms/step - loss: 1.0982 - accuracy: 0.7871 - val_loss: 1.3192 - val_accuracy: 0.7647 - lr: 1.0000e-04\n",
      "Epoch 22/50\n",
      "60/60 [==============================] - 9s 152ms/step - loss: 1.0424 - accuracy: 0.8145 - val_loss: 1.2967 - val_accuracy: 0.7479 - lr: 1.0000e-04\n",
      "Epoch 23/50\n",
      "60/60 [==============================] - 10s 157ms/step - loss: 1.0289 - accuracy: 0.8240 - val_loss: 1.2925 - val_accuracy: 0.7311 - lr: 1.0000e-04\n",
      "Epoch 24/50\n",
      "60/60 [==============================] - 10s 170ms/step - loss: 0.9619 - accuracy: 0.8462 - val_loss: 1.2603 - val_accuracy: 0.7479 - lr: 1.0000e-04\n",
      "Epoch 25/50\n",
      "60/60 [==============================] - 9s 146ms/step - loss: 0.9312 - accuracy: 0.8525 - val_loss: 1.2385 - val_accuracy: 0.7311 - lr: 1.0000e-04\n",
      "Epoch 26/50\n",
      "60/60 [==============================] - 9s 147ms/step - loss: 0.9074 - accuracy: 0.8567 - val_loss: 1.2257 - val_accuracy: 0.7395 - lr: 1.0000e-04\n",
      "Epoch 27/50\n",
      "60/60 [==============================] - 10s 167ms/step - loss: 0.9207 - accuracy: 0.8683 - val_loss: 1.2173 - val_accuracy: 0.7311 - lr: 1.0000e-04\n",
      "Epoch 28/50\n",
      "60/60 [==============================] - 10s 156ms/step - loss: 0.8640 - accuracy: 0.8757 - val_loss: 1.2041 - val_accuracy: 0.7479 - lr: 1.0000e-04\n",
      "Epoch 29/50\n",
      "60/60 [==============================] - 9s 143ms/step - loss: 0.8496 - accuracy: 0.8778 - val_loss: 1.1961 - val_accuracy: 0.7479 - lr: 1.0000e-04\n",
      "Epoch 30/50\n",
      "60/60 [==============================] - 9s 152ms/step - loss: 0.8301 - accuracy: 0.8767 - val_loss: 1.2017 - val_accuracy: 0.7395 - lr: 1.0000e-04\n",
      "Epoch 31/50\n",
      "60/60 [==============================] - 9s 152ms/step - loss: 0.7933 - accuracy: 0.8946 - val_loss: 1.1971 - val_accuracy: 0.7395 - lr: 1.0000e-04\n",
      "Epoch 32/50\n",
      "60/60 [==============================] - 10s 162ms/step - loss: 0.7783 - accuracy: 0.9073 - val_loss: 1.1712 - val_accuracy: 0.7227 - lr: 1.0000e-04\n",
      "Epoch 33/50\n",
      "60/60 [==============================] - 10s 162ms/step - loss: 0.7524 - accuracy: 0.9020 - val_loss: 1.1567 - val_accuracy: 0.7311 - lr: 1.0000e-04\n",
      "Epoch 34/50\n",
      "60/60 [==============================] - 10s 159ms/step - loss: 0.7388 - accuracy: 0.9083 - val_loss: 1.1546 - val_accuracy: 0.7479 - lr: 1.0000e-04\n",
      "Epoch 35/50\n",
      "60/60 [==============================] - 9s 142ms/step - loss: 0.7212 - accuracy: 0.9199 - val_loss: 1.1370 - val_accuracy: 0.7395 - lr: 1.0000e-04\n",
      "Epoch 36/50\n",
      "60/60 [==============================] - 10s 158ms/step - loss: 0.7208 - accuracy: 0.9199 - val_loss: 1.1309 - val_accuracy: 0.7563 - lr: 1.0000e-04\n",
      "Epoch 37/50\n",
      "60/60 [==============================] - 10s 167ms/step - loss: 0.7125 - accuracy: 0.9220 - val_loss: 1.1453 - val_accuracy: 0.7395 - lr: 1.0000e-04\n",
      "Epoch 38/50\n",
      "60/60 [==============================] - 9s 150ms/step - loss: 0.6682 - accuracy: 0.9410 - val_loss: 1.1400 - val_accuracy: 0.7647 - lr: 1.0000e-04\n",
      "Epoch 39/50\n",
      "60/60 [==============================] - 10s 157ms/step - loss: 0.6871 - accuracy: 0.9273 - val_loss: 1.1302 - val_accuracy: 0.7563 - lr: 1.0000e-04\n",
      "Epoch 40/50\n",
      "60/60 [==============================] - 10s 158ms/step - loss: 0.6470 - accuracy: 0.9347 - val_loss: 1.1107 - val_accuracy: 0.7479 - lr: 1.0000e-04\n",
      "Epoch 41/50\n",
      "60/60 [==============================] - 10s 158ms/step - loss: 0.6356 - accuracy: 0.9357 - val_loss: 1.0961 - val_accuracy: 0.7647 - lr: 1.0000e-04\n",
      "Epoch 42/50\n",
      "60/60 [==============================] - 9s 140ms/step - loss: 0.6262 - accuracy: 0.9442 - val_loss: 1.1127 - val_accuracy: 0.7395 - lr: 1.0000e-04\n",
      "Epoch 43/50\n",
      "60/60 [==============================] - 9s 155ms/step - loss: 0.6153 - accuracy: 0.9526 - val_loss: 1.1056 - val_accuracy: 0.7479 - lr: 1.0000e-04\n",
      "Epoch 44/50\n",
      "60/60 [==============================] - 10s 159ms/step - loss: 0.6269 - accuracy: 0.9505 - val_loss: 1.0944 - val_accuracy: 0.7563 - lr: 1.0000e-04\n",
      "Epoch 45/50\n",
      "60/60 [==============================] - 10s 158ms/step - loss: 0.6234 - accuracy: 0.9389 - val_loss: 1.0847 - val_accuracy: 0.7395 - lr: 1.0000e-04\n",
      "Epoch 46/50\n",
      "60/60 [==============================] - 9s 155ms/step - loss: 0.5877 - accuracy: 0.9600 - val_loss: 1.0970 - val_accuracy: 0.7311 - lr: 1.0000e-04\n",
      "Epoch 47/50\n",
      "60/60 [==============================] - 9s 142ms/step - loss: 0.5786 - accuracy: 0.9610 - val_loss: 1.1069 - val_accuracy: 0.7227 - lr: 1.0000e-04\n",
      "Epoch 48/50\n",
      "60/60 [==============================] - 10s 161ms/step - loss: 0.5847 - accuracy: 0.9673 - val_loss: 1.1020 - val_accuracy: 0.7395 - lr: 1.0000e-04\n",
      "Epoch 49/50\n",
      "60/60 [==============================] - 9s 142ms/step - loss: 0.5865 - accuracy: 0.9547 - val_loss: 1.0892 - val_accuracy: 0.7395 - lr: 5.0000e-05\n",
      "Epoch 50/50\n",
      "60/60 [==============================] - 9s 148ms/step - loss: 0.5574 - accuracy: 0.9663 - val_loss: 1.0869 - val_accuracy: 0.7395 - lr: 5.0000e-05\n",
      "Model: \"sequential\"\n",
      "_________________________________________________________________\n",
      " Layer (type)                Output Shape              Param #   \n",
      "=================================================================\n",
      " mobilenet_1.00_128 (Functi  (None, 4, 4, 1024)        3228864   \n",
      " onal)                                                           \n",
      "                                                                 \n",
      " global_average_pooling2d (  (None, 1024)              0         \n",
      " GlobalAveragePooling2D)                                         \n",
      "                                                                 \n",
      " dense (Dense)               (None, 256)               262400    \n",
      "                                                                 \n",
      " dropout (Dropout)           (None, 256)               0         \n",
      "                                                                 \n",
      " dense_1 (Dense)             (None, 20)                5140      \n",
      "                                                                 \n",
      "=================================================================\n",
      "Total params: 3496404 (13.34 MB)\n",
      "Trainable params: 267540 (1.02 MB)\n",
      "Non-trainable params: 3228864 (12.32 MB)\n",
      "_________________________________________________________________\n"
     ]
    }
   ],
   "source": [
    "history = model.fit(\n",
    "    train_generator,\n",
    "    validation_data=val_generator,\n",
    "    epochs=50,\n",
    "    callbacks=[early_stopping, reduce_lr]\n",
    ")\n",
    "\n",
    "model.summary()"
   ]
  },
  {
   "cell_type": "code",
   "execution_count": 9,
   "metadata": {},
   "outputs": [
    {
     "name": "stderr",
     "output_type": "stream",
     "text": [
      "WARNING:absl:`mobilenet_1.00_128_input` is not a valid tf.function parameter name. Sanitizing to `mobilenet_1_00_128_input`.\n",
      "WARNING:absl:`mobilenet_1.00_128_input` is not a valid tf.function parameter name. Sanitizing to `mobilenet_1_00_128_input`.\n",
      "WARNING:absl:`mobilenet_1.00_128_input` is not a valid tf.function parameter name. Sanitizing to `mobilenet_1_00_128_input`.\n"
     ]
    },
    {
     "name": "stdout",
     "output_type": "stream",
     "text": [
      "INFO:tensorflow:Assets written to: C:\\Users\\Emma\\AppData\\Local\\Temp\\tmpakjksl26\\assets\n"
     ]
    },
    {
     "name": "stderr",
     "output_type": "stream",
     "text": [
      "INFO:tensorflow:Assets written to: C:\\Users\\Emma\\AppData\\Local\\Temp\\tmpakjksl26\\assets\n"
     ]
    }
   ],
   "source": [
    "converter = tf.lite.TFLiteConverter.from_keras_model(model)\n",
    "tflite_model = converter.convert()\n",
    "\n",
    "with open('mobilenet_bird_classifier_v2.tflite', 'wb') as f:\n",
    "    f.write(tflite_model)"
   ]
  },
  {
   "cell_type": "code",
   "execution_count": 10,
   "metadata": {},
   "outputs": [
    {
     "name": "stdout",
     "output_type": "stream",
     "text": [
      "Found 120 images belonging to 20 classes.\n"
     ]
    }
   ],
   "source": [
    "test_datagen = ImageDataGenerator(rescale=1./255)  # Normalizacija slika\n",
    "\n",
    "test_generator = test_datagen.flow_from_directory(\n",
    "    'Test',  # Putanja do foldera sa test podacima\n",
    "    target_size=(128, 128),  # Resize na 96x96\n",
    "    batch_size=16,\n",
    "    class_mode= 'categorical') # 'sparse')"
   ]
  },
  {
   "cell_type": "code",
   "execution_count": 11,
   "metadata": {},
   "outputs": [
    {
     "name": "stdout",
     "output_type": "stream",
     "text": [
      "8/8 [==============================] - 1s 150ms/step - loss: 1.1554 - accuracy: 0.7667\n",
      "Test Loss: 1.1554204225540161\n",
      "Test Accuracy: 0.7666666507720947\n"
     ]
    }
   ],
   "source": [
    "test_loss, test_accuracy = model.evaluate(test_generator, verbose=1)\n",
    "\n",
    "# Ispis rezultata\n",
    "print(f'Test Loss: {test_loss}')\n",
    "print(f'Test Accuracy: {test_accuracy}')"
   ]
  },
  {
   "cell_type": "code",
   "execution_count": 12,
   "metadata": {},
   "outputs": [
    {
     "name": "stdout",
     "output_type": "stream",
     "text": [
      "[{'name': 'serving_default_mobilenet_1.00_224_input:0', 'index': 0, 'shape': array([  1, 124, 124,   3]), 'shape_signature': array([ -1, 124, 124,   3]), 'dtype': <class 'numpy.float32'>, 'quantization': (0.0, 0), 'quantization_parameters': {'scales': array([], dtype=float32), 'zero_points': array([], dtype=int32), 'quantized_dimension': 0}, 'sparsity_parameters': {}}]\n",
      "[{'name': 'StatefulPartitionedCall:0', 'index': 95, 'shape': array([ 1, 20]), 'shape_signature': array([-1, 20]), 'dtype': <class 'numpy.float32'>, 'quantization': (0.0, 0), 'quantization_parameters': {'scales': array([], dtype=float32), 'zero_points': array([], dtype=int32), 'quantized_dimension': 0}, 'sparsity_parameters': {}}]\n"
     ]
    }
   ],
   "source": [
    "interpreter = tf.lite.Interpreter(model_path='mobilenet_bird_classifier.tflite')\n",
    "interpreter.allocate_tensors()\n",
    "\n",
    "input_details = interpreter.get_input_details()\n",
    "output_details = interpreter.get_output_details()\n",
    "\n",
    "print(input_details)\n",
    "print(output_details)"
   ]
  },
  {
   "cell_type": "code",
   "execution_count": 13,
   "metadata": {},
   "outputs": [],
   "source": [
    "import numpy as np\n",
    "\n",
    "with open(\"mobilenet_bird_classifier_v2.tflite\", \"rb\") as f:\n",
    "    model_bytes = f.read()\n",
    "\n",
    "model_array = np.frombuffer(model_bytes, dtype=np.uint8)\n",
    "\n",
    "with open(\"model_v2.h\", \"w\") as f:\n",
    "    f.write(\"#ifndef MODEL_H\\n#define MODEL_H\\n\\n\")\n",
    "    f.write(\"const unsigned char model_tflite[] = {\")\n",
    "    \n",
    "    for i, byte in enumerate(model_array):\n",
    "        if i % 12 == 0:\n",
    "            f.write(\"\\n    \")\n",
    "        f.write(f\"0x{byte:02x}, \")\n",
    "\n",
    "    f.write(\"\\n};\\n\")\n",
    "    f.write(f\"const unsigned int model_tflite_len = {len(model_array)};\\n\\n\")\n",
    "    f.write(\"#endif // MODEL_H\\n\")\n"
   ]
  }
 ],
 "metadata": {
  "kernelspec": {
   "display_name": "Python 3",
   "language": "python",
   "name": "python3"
  },
  "language_info": {
   "codemirror_mode": {
    "name": "ipython",
    "version": 3
   },
   "file_extension": ".py",
   "mimetype": "text/x-python",
   "name": "python",
   "nbconvert_exporter": "python",
   "pygments_lexer": "ipython3",
   "version": "3.10.2"
  }
 },
 "nbformat": 4,
 "nbformat_minor": 2
}
