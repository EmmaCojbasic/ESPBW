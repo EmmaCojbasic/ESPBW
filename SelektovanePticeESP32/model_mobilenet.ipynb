{
 "cells": [
  {
   "cell_type": "code",
   "execution_count": 1,
   "metadata": {},
   "outputs": [
    {
     "name": "stdout",
     "output_type": "stream",
     "text": [
      "WARNING:tensorflow:From c:\\Users\\Emma\\AppData\\Local\\Programs\\Python\\Python310\\lib\\site-packages\\keras\\src\\losses.py:2976: The name tf.losses.sparse_softmax_cross_entropy is deprecated. Please use tf.compat.v1.losses.sparse_softmax_cross_entropy instead.\n",
      "\n"
     ]
    }
   ],
   "source": [
    "import tensorflow as tf\n",
    "from tensorflow.keras import layers, models, callbacks\n",
    "from tensorflow.keras.preprocessing.image import ImageDataGenerator"
   ]
  },
  {
   "cell_type": "code",
   "execution_count": 2,
   "metadata": {},
   "outputs": [
    {
     "name": "stdout",
     "output_type": "stream",
     "text": [
      "WARNING:tensorflow:`input_shape` is undefined or non-square, or `rows` is not in [128, 160, 192, 224]. Weights for input shape (224, 224) will be loaded as the default.\n",
      "WARNING:tensorflow:From c:\\Users\\Emma\\AppData\\Local\\Programs\\Python\\Python310\\lib\\site-packages\\keras\\src\\backend.py:1398: The name tf.executing_eagerly_outside_functions is deprecated. Please use tf.compat.v1.executing_eagerly_outside_functions instead.\n",
      "\n",
      "WARNING:tensorflow:From c:\\Users\\Emma\\AppData\\Local\\Programs\\Python\\Python310\\lib\\site-packages\\keras\\src\\layers\\normalization\\batch_normalization.py:979: The name tf.nn.fused_batch_norm is deprecated. Please use tf.compat.v1.nn.fused_batch_norm instead.\n",
      "\n"
     ]
    }
   ],
   "source": [
    "base_model = tf.keras.applications.MobileNet(input_shape=(124, 124, 3), \n",
    "                                               include_top=False, weights='imagenet')\n",
    "\n",
    "base_model.trainable = False"
   ]
  },
  {
   "cell_type": "code",
   "execution_count": 3,
   "metadata": {},
   "outputs": [],
   "source": [
    "from tensorflow.keras.regularizers import l2\n",
    "\n",
    "model = models.Sequential([\n",
    "    base_model,\n",
    "    layers.GlobalAveragePooling2D(),\n",
    "    layers.Dense(256, activation='relu', kernel_regularizer=l2(0.001)),  # Regularizacija\n",
    "    layers.Dropout(0.6),  # Smanjuje overfitting\n",
    "    layers.Dense(20, activation='softmax')  # 20 je broj klasa\n",
    "])"
   ]
  },
  {
   "cell_type": "code",
   "execution_count": 4,
   "metadata": {},
   "outputs": [],
   "source": [
    "model.compile(optimizer=tf.keras.optimizers.Adam(learning_rate=0.0001),\n",
    "              loss= 'categorical_crossentropy', # 'sparse_categorical_crossentropy',\n",
    "              metrics=['accuracy'])\n",
    "\n",
    "early_stopping = callbacks.EarlyStopping(monitor='val_loss', patience=5, restore_best_weights=True)\n",
    "reduce_lr = callbacks.ReduceLROnPlateau(monitor='val_loss', factor=0.5, patience=3, min_lr=1e-6)"
   ]
  },
  {
   "cell_type": "code",
   "execution_count": 5,
   "metadata": {},
   "outputs": [],
   "source": [
    "train_datagen = ImageDataGenerator(rescale=1./255)"
   ]
  },
  {
   "cell_type": "code",
   "execution_count": 6,
   "metadata": {},
   "outputs": [
    {
     "name": "stdout",
     "output_type": "stream",
     "text": [
      "Found 949 images belonging to 20 classes.\n"
     ]
    }
   ],
   "source": [
    "train_generator = train_datagen.flow_from_directory(\n",
    "    'Train',  # Putanja do foldera sa podacima za treniranje\n",
    "    target_size=(124, 124),     # Resize na 96x96\n",
    "    batch_size=16,\n",
    "    class_mode= 'categorical' ) # 'sparse')"
   ]
  },
  {
   "cell_type": "code",
   "execution_count": 7,
   "metadata": {},
   "outputs": [
    {
     "name": "stdout",
     "output_type": "stream",
     "text": [
      "Found 119 images belonging to 20 classes.\n"
     ]
    }
   ],
   "source": [
    "val_datagen = ImageDataGenerator(rescale=1./255)\n",
    "\n",
    "val_generator = val_datagen.flow_from_directory(\n",
    "    'Validate',  # Putanja do foldera sa podacima za treniranje\n",
    "    target_size=(124, 124),     # Resize na 96x96\n",
    "    batch_size=16,\n",
    "    class_mode= 'categorical') #'sparse')"
   ]
  },
  {
   "cell_type": "code",
   "execution_count": 8,
   "metadata": {},
   "outputs": [
    {
     "name": "stdout",
     "output_type": "stream",
     "text": [
      "Epoch 1/50\n",
      "WARNING:tensorflow:From c:\\Users\\Emma\\AppData\\Local\\Programs\\Python\\Python310\\lib\\site-packages\\keras\\src\\utils\\tf_utils.py:492: The name tf.ragged.RaggedTensorValue is deprecated. Please use tf.compat.v1.ragged.RaggedTensorValue instead.\n",
      "\n",
      "WARNING:tensorflow:From c:\\Users\\Emma\\AppData\\Local\\Programs\\Python\\Python310\\lib\\site-packages\\keras\\src\\engine\\base_layer_utils.py:384: The name tf.executing_eagerly_outside_functions is deprecated. Please use tf.compat.v1.executing_eagerly_outside_functions instead.\n",
      "\n",
      "60/60 [==============================] - 11s 131ms/step - loss: 6.1219 - accuracy: 0.0632 - val_loss: 3.7015 - val_accuracy: 0.1261 - lr: 1.0000e-04\n",
      "Epoch 2/50\n",
      "60/60 [==============================] - 9s 149ms/step - loss: 4.1811 - accuracy: 0.0980 - val_loss: 3.1723 - val_accuracy: 0.1849 - lr: 1.0000e-04\n",
      "Epoch 3/50\n",
      "60/60 [==============================] - 8s 139ms/step - loss: 3.5343 - accuracy: 0.1507 - val_loss: 2.9903 - val_accuracy: 0.2353 - lr: 1.0000e-04\n",
      "Epoch 4/50\n",
      "60/60 [==============================] - 8s 134ms/step - loss: 3.1278 - accuracy: 0.2065 - val_loss: 2.8944 - val_accuracy: 0.2941 - lr: 1.0000e-04\n",
      "Epoch 5/50\n",
      "60/60 [==============================] - 8s 131ms/step - loss: 2.9715 - accuracy: 0.2455 - val_loss: 2.7997 - val_accuracy: 0.3109 - lr: 1.0000e-04\n",
      "Epoch 6/50\n",
      "60/60 [==============================] - 9s 145ms/step - loss: 2.7953 - accuracy: 0.2813 - val_loss: 2.6917 - val_accuracy: 0.3697 - lr: 1.0000e-04\n",
      "Epoch 7/50\n",
      "60/60 [==============================] - 8s 133ms/step - loss: 2.6411 - accuracy: 0.2866 - val_loss: 2.5714 - val_accuracy: 0.3697 - lr: 1.0000e-04\n",
      "Epoch 8/50\n",
      "60/60 [==============================] - 8s 136ms/step - loss: 2.4587 - accuracy: 0.3825 - val_loss: 2.4519 - val_accuracy: 0.4118 - lr: 1.0000e-04\n",
      "Epoch 9/50\n",
      "60/60 [==============================] - 8s 125ms/step - loss: 2.3645 - accuracy: 0.3888 - val_loss: 2.3853 - val_accuracy: 0.4370 - lr: 1.0000e-04\n",
      "Epoch 10/50\n",
      "60/60 [==============================] - 7s 119ms/step - loss: 2.2754 - accuracy: 0.4057 - val_loss: 2.2939 - val_accuracy: 0.4370 - lr: 1.0000e-04\n",
      "Epoch 11/50\n",
      "60/60 [==============================] - 7s 118ms/step - loss: 2.1108 - accuracy: 0.4710 - val_loss: 2.2405 - val_accuracy: 0.4706 - lr: 1.0000e-04\n",
      "Epoch 12/50\n",
      "60/60 [==============================] - 7s 120ms/step - loss: 2.0389 - accuracy: 0.4963 - val_loss: 2.1803 - val_accuracy: 0.4706 - lr: 1.0000e-04\n",
      "Epoch 13/50\n",
      "60/60 [==============================] - 7s 122ms/step - loss: 1.9751 - accuracy: 0.4932 - val_loss: 2.1325 - val_accuracy: 0.5042 - lr: 1.0000e-04\n",
      "Epoch 14/50\n",
      "60/60 [==============================] - 7s 119ms/step - loss: 1.8549 - accuracy: 0.5627 - val_loss: 2.0675 - val_accuracy: 0.5042 - lr: 1.0000e-04\n",
      "Epoch 15/50\n",
      "60/60 [==============================] - 7s 122ms/step - loss: 1.7846 - accuracy: 0.5753 - val_loss: 2.0199 - val_accuracy: 0.4874 - lr: 1.0000e-04\n",
      "Epoch 16/50\n",
      "60/60 [==============================] - 7s 123ms/step - loss: 1.6553 - accuracy: 0.6133 - val_loss: 1.9946 - val_accuracy: 0.5042 - lr: 1.0000e-04\n",
      "Epoch 17/50\n",
      "60/60 [==============================] - 8s 127ms/step - loss: 1.6083 - accuracy: 0.6175 - val_loss: 1.9496 - val_accuracy: 0.5210 - lr: 1.0000e-04\n",
      "Epoch 18/50\n",
      "60/60 [==============================] - 7s 122ms/step - loss: 1.5398 - accuracy: 0.6207 - val_loss: 1.9144 - val_accuracy: 0.5294 - lr: 1.0000e-04\n",
      "Epoch 19/50\n",
      "60/60 [==============================] - 7s 122ms/step - loss: 1.4803 - accuracy: 0.6491 - val_loss: 1.8849 - val_accuracy: 0.5462 - lr: 1.0000e-04\n",
      "Epoch 20/50\n",
      "60/60 [==============================] - 7s 122ms/step - loss: 1.4173 - accuracy: 0.6818 - val_loss: 1.8367 - val_accuracy: 0.5546 - lr: 1.0000e-04\n",
      "Epoch 21/50\n",
      "60/60 [==============================] - 8s 132ms/step - loss: 1.3701 - accuracy: 0.6902 - val_loss: 1.8192 - val_accuracy: 0.5462 - lr: 1.0000e-04\n",
      "Epoch 22/50\n",
      "60/60 [==============================] - 7s 120ms/step - loss: 1.2737 - accuracy: 0.7323 - val_loss: 1.8059 - val_accuracy: 0.5714 - lr: 1.0000e-04\n",
      "Epoch 23/50\n",
      "60/60 [==============================] - 7s 122ms/step - loss: 1.2563 - accuracy: 0.7545 - val_loss: 1.7885 - val_accuracy: 0.5462 - lr: 1.0000e-04\n",
      "Epoch 24/50\n",
      "60/60 [==============================] - 7s 122ms/step - loss: 1.2050 - accuracy: 0.7471 - val_loss: 1.7404 - val_accuracy: 0.5798 - lr: 1.0000e-04\n",
      "Epoch 25/50\n",
      "60/60 [==============================] - 7s 122ms/step - loss: 1.1823 - accuracy: 0.7661 - val_loss: 1.7270 - val_accuracy: 0.5546 - lr: 1.0000e-04\n",
      "Epoch 26/50\n",
      "60/60 [==============================] - 8s 131ms/step - loss: 1.1470 - accuracy: 0.7777 - val_loss: 1.7328 - val_accuracy: 0.5798 - lr: 1.0000e-04\n",
      "Epoch 27/50\n",
      "60/60 [==============================] - 7s 121ms/step - loss: 1.0958 - accuracy: 0.7861 - val_loss: 1.7163 - val_accuracy: 0.5882 - lr: 1.0000e-04\n",
      "Epoch 28/50\n",
      "60/60 [==============================] - 8s 127ms/step - loss: 1.0477 - accuracy: 0.7956 - val_loss: 1.7254 - val_accuracy: 0.5966 - lr: 1.0000e-04\n",
      "Epoch 29/50\n",
      "60/60 [==============================] - 8s 140ms/step - loss: 1.0500 - accuracy: 0.7903 - val_loss: 1.6981 - val_accuracy: 0.5882 - lr: 1.0000e-04\n",
      "Epoch 30/50\n",
      "60/60 [==============================] - 8s 132ms/step - loss: 1.0030 - accuracy: 0.8314 - val_loss: 1.6986 - val_accuracy: 0.5798 - lr: 1.0000e-04\n",
      "Epoch 31/50\n",
      "60/60 [==============================] - 7s 123ms/step - loss: 0.9686 - accuracy: 0.8398 - val_loss: 1.6727 - val_accuracy: 0.5798 - lr: 1.0000e-04\n",
      "Epoch 32/50\n",
      "60/60 [==============================] - 8s 128ms/step - loss: 0.9129 - accuracy: 0.8451 - val_loss: 1.6561 - val_accuracy: 0.5798 - lr: 1.0000e-04\n",
      "Epoch 33/50\n",
      "60/60 [==============================] - 8s 128ms/step - loss: 0.8716 - accuracy: 0.8535 - val_loss: 1.6271 - val_accuracy: 0.5882 - lr: 1.0000e-04\n",
      "Epoch 34/50\n",
      "60/60 [==============================] - 8s 132ms/step - loss: 0.9068 - accuracy: 0.8335 - val_loss: 1.6368 - val_accuracy: 0.6218 - lr: 1.0000e-04\n",
      "Epoch 35/50\n",
      "60/60 [==============================] - 7s 121ms/step - loss: 0.8832 - accuracy: 0.8599 - val_loss: 1.6461 - val_accuracy: 0.5798 - lr: 1.0000e-04\n",
      "Epoch 36/50\n",
      "60/60 [==============================] - 7s 120ms/step - loss: 0.8876 - accuracy: 0.8493 - val_loss: 1.6105 - val_accuracy: 0.6050 - lr: 1.0000e-04\n",
      "Epoch 37/50\n",
      "60/60 [==============================] - 7s 114ms/step - loss: 0.8175 - accuracy: 0.8820 - val_loss: 1.6173 - val_accuracy: 0.5966 - lr: 1.0000e-04\n",
      "Epoch 38/50\n",
      "60/60 [==============================] - 7s 124ms/step - loss: 0.7903 - accuracy: 0.8936 - val_loss: 1.6356 - val_accuracy: 0.6050 - lr: 1.0000e-04\n",
      "Epoch 39/50\n",
      "60/60 [==============================] - 7s 123ms/step - loss: 0.7872 - accuracy: 0.8936 - val_loss: 1.6004 - val_accuracy: 0.5966 - lr: 1.0000e-04\n",
      "Epoch 40/50\n",
      "60/60 [==============================] - 8s 125ms/step - loss: 0.7897 - accuracy: 0.8862 - val_loss: 1.5977 - val_accuracy: 0.5966 - lr: 1.0000e-04\n",
      "Epoch 41/50\n",
      "60/60 [==============================] - 7s 121ms/step - loss: 0.7489 - accuracy: 0.8988 - val_loss: 1.6009 - val_accuracy: 0.5798 - lr: 1.0000e-04\n",
      "Epoch 42/50\n",
      "60/60 [==============================] - 7s 122ms/step - loss: 0.7348 - accuracy: 0.9168 - val_loss: 1.6011 - val_accuracy: 0.5882 - lr: 1.0000e-04\n",
      "Epoch 43/50\n",
      "60/60 [==============================] - 8s 127ms/step - loss: 0.7444 - accuracy: 0.9041 - val_loss: 1.6053 - val_accuracy: 0.5966 - lr: 1.0000e-04\n",
      "Epoch 44/50\n",
      "60/60 [==============================] - 7s 120ms/step - loss: 0.7079 - accuracy: 0.9220 - val_loss: 1.5871 - val_accuracy: 0.6050 - lr: 5.0000e-05\n",
      "Epoch 45/50\n",
      "60/60 [==============================] - 11s 188ms/step - loss: 0.6868 - accuracy: 0.9368 - val_loss: 1.5844 - val_accuracy: 0.5798 - lr: 5.0000e-05\n",
      "Epoch 46/50\n",
      "60/60 [==============================] - 10s 166ms/step - loss: 0.7130 - accuracy: 0.9199 - val_loss: 1.5647 - val_accuracy: 0.5798 - lr: 5.0000e-05\n",
      "Epoch 47/50\n",
      "60/60 [==============================] - 9s 148ms/step - loss: 0.7070 - accuracy: 0.9157 - val_loss: 1.5676 - val_accuracy: 0.5882 - lr: 5.0000e-05\n",
      "Epoch 48/50\n",
      "60/60 [==============================] - 8s 133ms/step - loss: 0.6656 - accuracy: 0.9326 - val_loss: 1.5759 - val_accuracy: 0.5882 - lr: 5.0000e-05\n",
      "Epoch 49/50\n",
      "60/60 [==============================] - 8s 127ms/step - loss: 0.6562 - accuracy: 0.9305 - val_loss: 1.5774 - val_accuracy: 0.5882 - lr: 5.0000e-05\n",
      "Epoch 50/50\n",
      "60/60 [==============================] - 8s 131ms/step - loss: 0.6544 - accuracy: 0.9389 - val_loss: 1.5788 - val_accuracy: 0.5798 - lr: 2.5000e-05\n",
      "Model: \"sequential\"\n",
      "_________________________________________________________________\n",
      " Layer (type)                Output Shape              Param #   \n",
      "=================================================================\n",
      " mobilenet_1.00_224 (Functi  (None, 3, 3, 1024)        3228864   \n",
      " onal)                                                           \n",
      "                                                                 \n",
      " global_average_pooling2d (  (None, 1024)              0         \n",
      " GlobalAveragePooling2D)                                         \n",
      "                                                                 \n",
      " dense (Dense)               (None, 256)               262400    \n",
      "                                                                 \n",
      " dropout (Dropout)           (None, 256)               0         \n",
      "                                                                 \n",
      " dense_1 (Dense)             (None, 20)                5140      \n",
      "                                                                 \n",
      "=================================================================\n",
      "Total params: 3496404 (13.34 MB)\n",
      "Trainable params: 267540 (1.02 MB)\n",
      "Non-trainable params: 3228864 (12.32 MB)\n",
      "_________________________________________________________________\n"
     ]
    }
   ],
   "source": [
    "history = model.fit(\n",
    "    train_generator,\n",
    "    validation_data=val_generator,\n",
    "    epochs=50,\n",
    "    callbacks=[early_stopping, reduce_lr]\n",
    ")\n",
    "\n",
    "model.summary()"
   ]
  },
  {
   "cell_type": "code",
   "execution_count": 9,
   "metadata": {},
   "outputs": [
    {
     "name": "stderr",
     "output_type": "stream",
     "text": [
      "WARNING:absl:`mobilenet_1.00_224_input` is not a valid tf.function parameter name. Sanitizing to `mobilenet_1_00_224_input`.\n",
      "WARNING:absl:`mobilenet_1.00_224_input` is not a valid tf.function parameter name. Sanitizing to `mobilenet_1_00_224_input`.\n",
      "WARNING:absl:`mobilenet_1.00_224_input` is not a valid tf.function parameter name. Sanitizing to `mobilenet_1_00_224_input`.\n"
     ]
    },
    {
     "name": "stdout",
     "output_type": "stream",
     "text": [
      "INFO:tensorflow:Assets written to: C:\\Users\\Emma\\AppData\\Local\\Temp\\tmpc6763415\\assets\n"
     ]
    },
    {
     "name": "stderr",
     "output_type": "stream",
     "text": [
      "INFO:tensorflow:Assets written to: C:\\Users\\Emma\\AppData\\Local\\Temp\\tmpc6763415\\assets\n"
     ]
    }
   ],
   "source": [
    "converter = tf.lite.TFLiteConverter.from_keras_model(model)\n",
    "tflite_model = converter.convert()\n",
    "\n",
    "with open('mobilenet_bird_classifier.tflite', 'wb') as f:\n",
    "    f.write(tflite_model)"
   ]
  },
  {
   "cell_type": "code",
   "execution_count": 10,
   "metadata": {},
   "outputs": [
    {
     "name": "stdout",
     "output_type": "stream",
     "text": [
      "Found 120 images belonging to 20 classes.\n"
     ]
    }
   ],
   "source": [
    "test_datagen = ImageDataGenerator(rescale=1./255)  # Normalizacija slika\n",
    "\n",
    "test_generator = test_datagen.flow_from_directory(\n",
    "    'Test',  # Putanja do foldera sa test podacima\n",
    "    target_size=(124, 124),  # Resize na 96x96\n",
    "    batch_size=16,\n",
    "    class_mode= 'categorical') # 'sparse')"
   ]
  },
  {
   "cell_type": "code",
   "execution_count": 11,
   "metadata": {},
   "outputs": [
    {
     "name": "stdout",
     "output_type": "stream",
     "text": [
      "8/8 [==============================] - 1s 96ms/step - loss: 1.5901 - accuracy: 0.6333\n",
      "Test Loss: 1.5901062488555908\n",
      "Test Accuracy: 0.6333333253860474\n"
     ]
    }
   ],
   "source": [
    "test_loss, test_accuracy = model.evaluate(test_generator, verbose=1)\n",
    "\n",
    "# Ispis rezultata\n",
    "print(f'Test Loss: {test_loss}')\n",
    "print(f'Test Accuracy: {test_accuracy}')"
   ]
  },
  {
   "cell_type": "code",
   "execution_count": 12,
   "metadata": {},
   "outputs": [
    {
     "name": "stdout",
     "output_type": "stream",
     "text": [
      "[{'name': 'serving_default_mobilenet_1.00_224_input:0', 'index': 0, 'shape': array([  1, 124, 124,   3]), 'shape_signature': array([ -1, 124, 124,   3]), 'dtype': <class 'numpy.float32'>, 'quantization': (0.0, 0), 'quantization_parameters': {'scales': array([], dtype=float32), 'zero_points': array([], dtype=int32), 'quantized_dimension': 0}, 'sparsity_parameters': {}}]\n",
      "[{'name': 'StatefulPartitionedCall:0', 'index': 95, 'shape': array([ 1, 20]), 'shape_signature': array([-1, 20]), 'dtype': <class 'numpy.float32'>, 'quantization': (0.0, 0), 'quantization_parameters': {'scales': array([], dtype=float32), 'zero_points': array([], dtype=int32), 'quantized_dimension': 0}, 'sparsity_parameters': {}}]\n"
     ]
    }
   ],
   "source": [
    "interpreter = tf.lite.Interpreter(model_path='mobilenet_bird_classifier.tflite')\n",
    "interpreter.allocate_tensors()\n",
    "\n",
    "input_details = interpreter.get_input_details()\n",
    "output_details = interpreter.get_output_details()\n",
    "\n",
    "print(input_details)\n",
    "print(output_details)"
   ]
  },
  {
   "cell_type": "code",
   "execution_count": 1,
   "metadata": {},
   "outputs": [],
   "source": [
    "import numpy as np\n",
    "\n",
    "with open(\"mobilenet_bird_classifier.tflite\", \"rb\") as f:\n",
    "    model_bytes = f.read()\n",
    "\n",
    "model_array = np.frombuffer(model_bytes, dtype=np.uint8)\n",
    "\n",
    "with open(\"model.h\", \"w\") as f:\n",
    "    f.write(\"#ifndef MODEL_H\\n#define MODEL_H\\n\\n\")\n",
    "    f.write(\"const unsigned char model_tflite[] = {\")\n",
    "    \n",
    "    for i, byte in enumerate(model_array):\n",
    "        if i % 12 == 0:\n",
    "            f.write(\"\\n    \")\n",
    "        f.write(f\"0x{byte:02x}, \")\n",
    "\n",
    "    f.write(\"\\n};\\n\")\n",
    "    f.write(f\"const unsigned int model_tflite_len = {len(model_array)};\\n\\n\")\n",
    "    f.write(\"#endif // MODEL_H\\n\")\n"
   ]
  }
 ],
 "metadata": {
  "kernelspec": {
   "display_name": "Python 3",
   "language": "python",
   "name": "python3"
  },
  "language_info": {
   "codemirror_mode": {
    "name": "ipython",
    "version": 3
   },
   "file_extension": ".py",
   "mimetype": "text/x-python",
   "name": "python",
   "nbconvert_exporter": "python",
   "pygments_lexer": "ipython3",
   "version": "3.10.2"
  }
 },
 "nbformat": 4,
 "nbformat_minor": 2
}
